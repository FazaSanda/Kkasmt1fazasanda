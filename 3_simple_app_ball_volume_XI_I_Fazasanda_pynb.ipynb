{
  "nbformat": 4,
  "nbformat_minor": 0,
  "metadata": {
    "colab": {
      "provenance": [],
      "authorship_tag": "ABX9TyMQo5YLd4+WxZJMaK0gy1VE",
      "include_colab_link": true
    },
    "kernelspec": {
      "name": "python3",
      "display_name": "Python 3"
    },
    "language_info": {
      "name": "python"
    }
  },
  "cells": [
    {
      "cell_type": "markdown",
      "metadata": {
        "id": "view-in-github",
        "colab_type": "text"
      },
      "source": [
        "<a href=\"https://colab.research.google.com/github/FazaSanda/Kkasmt1fazasanda/blob/main/3_simple_app_ball_volume_XI_I_Fazasanda_pynb.ipynb\" target=\"_parent\"><img src=\"https://colab.research.google.com/assets/colab-badge.svg\" alt=\"Open In Colab\"/></a>"
      ]
    },
    {
      "cell_type": "markdown",
      "source": [
        "Nama  : Faza Sanda  \n",
        "\n",
        "Kelas : XI. I\n",
        "\n",
        "Absen : 13\n",
        "\n",
        "Kelompok : Lana del ray"
      ],
      "metadata": {
        "id": "zfLgRM_FgsfY"
      }
    },
    {
      "cell_type": "code",
      "execution_count": null,
      "metadata": {
        "colab": {
          "base_uri": "https://localhost:8080/"
        },
        "id": "_sJcwk3udUTH",
        "outputId": "f4234bf0-a9b4-4200-97a5-bddde892c8f0"
      },
      "outputs": [
        {
          "output_type": "stream",
          "name": "stdout",
          "text": [
            "masukkan jari jari kerucut:7\n",
            " masukkan tinggi kerucut:14\n",
            " volume kerucut adalah 718.0133333333333 cm^3\n"
          ]
        }
      ],
      "source": [
        "Jari_jari = float(input(\"masukkan jari jari kerucut:\"))\n",
        "Tinggi = float(input(\" masukkan tinggi kerucut:\"))\n",
        "pi = 3.14\n",
        "volume =(1/3)* pi * (Jari_jari**2)* Tinggi\n",
        "print(f\" volume kerucut adalah {volume} cm^3\")"
      ]
    }
  ]
}