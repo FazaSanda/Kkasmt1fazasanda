{
  "nbformat": 4,
  "nbformat_minor": 0,
  "metadata": {
    "colab": {
      "provenance": [],
      "authorship_tag": "ABX9TyM3Onq6+hGbHx+467L8pSOU",
      "include_colab_link": true
    },
    "kernelspec": {
      "name": "python3",
      "display_name": "Python 3"
    },
    "language_info": {
      "name": "python"
    }
  },
  "cells": [
    {
      "cell_type": "markdown",
      "metadata": {
        "id": "view-in-github",
        "colab_type": "text"
      },
      "source": [
        "<a href=\"https://colab.research.google.com/github/FazaSanda/Kkasmt1fazasanda/blob/main/3_simple_app_kerucut_volume_XI_I_Fazasanda_pynb.ipynb\" target=\"_parent\"><img src=\"https://colab.research.google.com/assets/colab-badge.svg\" alt=\"Open In Colab\"/></a>"
      ]
    },
    {
      "cell_type": "markdown",
      "source": [
        "Nama  : Faza Sanda  \n",
        "\n",
        "Kelas : XI. I\n",
        "\n",
        "Absen : 13\n",
        "\n",
        "Kelompok : Lana del ray"
      ],
      "metadata": {
        "id": "zfLgRM_FgsfY"
      }
    },
    {
      "cell_type": "markdown",
      "source": [
        "## aplikasi sederhana menghitung volume kerucut"
      ],
      "metadata": {
        "id": "kPDjn1kcnW5N"
      }
    },
    {
      "cell_type": "code",
      "source": [
        "Jari_jari = float(input(\"Masukkan jari jari kerucut(cm) :\"))\n",
        "Tinggi = float(input(\"Masukkan tinggi kerucut(cm) :\"))\n",
        "pi = 3.14\n",
        "volume =(1/3)* pi * (Jari_jari**2)* Tinggi\n",
        "print(f\"Volume kerucut adalah {volume:.2f} cm^3\")"
      ],
      "metadata": {
        "colab": {
          "base_uri": "https://localhost:8080/"
        },
        "id": "bOHcGvyarSU3",
        "outputId": "a6f4374d-b386-4398-f180-b1b81ed861dc"
      },
      "execution_count": null,
      "outputs": [
        {
          "output_type": "stream",
          "name": "stdout",
          "text": [
            "Masukkan jari jari kerucut(cm) :10\n",
            "Masukkan tinggi kerucut(cm) :7\n",
            "Volume kerucut adalah 732.67 cm^3\n"
          ]
        }
      ]
    }
  ]
}