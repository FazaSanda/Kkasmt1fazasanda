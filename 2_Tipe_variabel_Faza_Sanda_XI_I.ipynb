{
  "nbformat": 4,
  "nbformat_minor": 0,
  "metadata": {
    "colab": {
      "provenance": [],
      "authorship_tag": "ABX9TyPhNbswJlPfjWzi39Rcq1Do",
      "include_colab_link": true
    },
    "kernelspec": {
      "name": "python3",
      "display_name": "Python 3"
    },
    "language_info": {
      "name": "python"
    }
  },
  "cells": [
    {
      "cell_type": "markdown",
      "metadata": {
        "id": "view-in-github",
        "colab_type": "text"
      },
      "source": [
        "<a href=\"https://colab.research.google.com/github/FazaSanda/Kkasmt1fazasanda/blob/main/2_Tipe_variabel_Faza_Sanda_XI_I.ipynb\" target=\"_parent\"><img src=\"https://colab.research.google.com/assets/colab-badge.svg\" alt=\"Open In Colab\"/></a>"
      ]
    },
    {
      "cell_type": "code",
      "execution_count": null,
      "metadata": {
        "id": "bLYrKrt3PVj9"
      },
      "outputs": [],
      "source": []
    },
    {
      "cell_type": "markdown",
      "source": [
        "Nama : Faza Sanda\n",
        "kelas : XI. I\n",
        "No. absen : 13"
      ],
      "metadata": {
        "id": "BNXPmmjaPnFN"
      }
    },
    {
      "cell_type": "markdown",
      "source": [
        "konsep dasar"
      ],
      "metadata": {
        "id": "MFuQx2_nQHr1"
      }
    },
    {
      "cell_type": "code",
      "source": [
        "email_user_1 =\"fazasanda2025@gmail.com\"\n",
        "print(email_user_1)"
      ],
      "metadata": {
        "colab": {
          "base_uri": "https://localhost:8080/"
        },
        "id": "0fzN4ROnQknX",
        "outputId": "4f28ae10-f601-4c81-978b-16672c945634"
      },
      "execution_count": null,
      "outputs": [
        {
          "output_type": "stream",
          "name": "stdout",
          "text": [
            "fazasanda2025@gmail.com\n"
          ]
        }
      ]
    },
    {
      "cell_type": "code",
      "source": [
        "sabun_lifebuoy = 15000\n",
        "print(sabun_lifebuoy)"
      ],
      "metadata": {
        "colab": {
          "base_uri": "https://localhost:8080/"
        },
        "id": "PvqvA-1yQ3S-",
        "outputId": "af91f4f9-5a4d-4051-a35c-c404e229200d"
      },
      "execution_count": null,
      "outputs": [
        {
          "output_type": "stream",
          "name": "stdout",
          "text": [
            "15000\n"
          ]
        }
      ]
    },
    {
      "cell_type": "code",
      "source": [
        "print(sabun_lifebuoy*5)"
      ],
      "metadata": {
        "colab": {
          "base_uri": "https://localhost:8080/"
        },
        "id": "ZZ0yITiyRFwP",
        "outputId": "3f2bd27c-6dc5-499d-ca24-fa69294d4ebd"
      },
      "execution_count": null,
      "outputs": [
        {
          "output_type": "stream",
          "name": "stdout",
          "text": [
            "75000\n"
          ]
        }
      ]
    },
    {
      "cell_type": "markdown",
      "source": [
        "peraturan penulisan nilai variabel"
      ],
      "metadata": {
        "id": "PatJmuRCRrNw"
      }
    },
    {
      "cell_type": "code",
      "source": [
        "#penulisan variabel hanya boleh menggunakan huruf, angka dan underscore\n",
        "#Tidak boleh menggunakan spasi\n",
        "nama siswa =\"Faza\"\n",
        "print(nama siswa)"
      ],
      "metadata": {
        "colab": {
          "base_uri": "https://localhost:8080/",
          "height": 108
        },
        "id": "D_wzA4AdRyL3",
        "outputId": "a0b65a8b-6f83-4057-9648-8fe56bf8638c"
      },
      "execution_count": null,
      "outputs": [
        {
          "output_type": "error",
          "ename": "SyntaxError",
          "evalue": "invalid syntax (ipython-input-1780068500.py, line 3)",
          "traceback": [
            "\u001b[0;36m  File \u001b[0;32m\"/tmp/ipython-input-1780068500.py\"\u001b[0;36m, line \u001b[0;32m3\u001b[0m\n\u001b[0;31m    nama siswa =\"Faza\"\u001b[0m\n\u001b[0m         ^\u001b[0m\n\u001b[0;31mSyntaxError\u001b[0m\u001b[0;31m:\u001b[0m invalid syntax\n"
          ]
        }
      ]
    },
    {
      "cell_type": "code",
      "source": [
        "#tidak boleh diawali dengan angka\n",
        "1_nama_siswa = \"Faza\"\n",
        "print(1_nama_siswa)"
      ],
      "metadata": {
        "colab": {
          "base_uri": "https://localhost:8080/",
          "height": 108
        },
        "id": "K_t_6RcKSSYs",
        "outputId": "1254eb1a-36d6-4108-d51a-ef7323d6226a"
      },
      "execution_count": null,
      "outputs": [
        {
          "output_type": "error",
          "ename": "SyntaxError",
          "evalue": "invalid decimal literal (ipython-input-3709258736.py, line 2)",
          "traceback": [
            "\u001b[0;36m  File \u001b[0;32m\"/tmp/ipython-input-3709258736.py\"\u001b[0;36m, line \u001b[0;32m2\u001b[0m\n\u001b[0;31m    1_nama_siswa = \"Faza\"\u001b[0m\n\u001b[0m     ^\u001b[0m\n\u001b[0;31mSyntaxError\u001b[0m\u001b[0;31m:\u001b[0m invalid decimal literal\n"
          ]
        }
      ]
    },
    {
      "cell_type": "code",
      "source": [
        "#penulisan nama varibel itu case sensitive/sensitif capslok\n",
        "nama_siswa_1 = \"Faza\"\n",
        "print(Nama_siswa_1)"
      ],
      "metadata": {
        "colab": {
          "base_uri": "https://localhost:8080/",
          "height": 484
        },
        "id": "Qb2o5iEZSh96",
        "outputId": "57eb97c4-e4b0-48d1-b846-919add11b148"
      },
      "execution_count": null,
      "outputs": [
        {
          "output_type": "error",
          "ename": "NameError",
          "evalue": "name 'Nama_siswa_1' is not defined",
          "traceback": [
            "\u001b[0;31m---------------------------------------------------------------------------\u001b[0m",
            "\u001b[0;31mNameError\u001b[0m                                 Traceback (most recent call last)",
            "\u001b[0;32m/tmp/ipython-input-2749396435.py\u001b[0m in \u001b[0;36m<cell line: 0>\u001b[0;34m()\u001b[0m\n\u001b[1;32m      1\u001b[0m \u001b[0;31m#penulisan nama varibel itu case sensitive/sensitif capslok\u001b[0m\u001b[0;34m\u001b[0m\u001b[0;34m\u001b[0m\u001b[0m\n\u001b[1;32m      2\u001b[0m \u001b[0mnama_siswa_1\u001b[0m \u001b[0;34m=\u001b[0m \u001b[0;34m\"Faza\"\u001b[0m\u001b[0;34m\u001b[0m\u001b[0;34m\u001b[0m\u001b[0m\n\u001b[0;32m----> 3\u001b[0;31m \u001b[0mprint\u001b[0m\u001b[0;34m(\u001b[0m\u001b[0mNama_siswa_1\u001b[0m\u001b[0;34m)\u001b[0m\u001b[0;34m\u001b[0m\u001b[0;34m\u001b[0m\u001b[0m\n\u001b[0m",
            "\u001b[0;31mNameError\u001b[0m: name 'Nama_siswa_1' is not defined"
          ]
        }
      ]
    },
    {
      "cell_type": "code",
      "source": [
        "#Dilarang menggunakan kata kunci di bahasa python\n",
        "prin=\"Faza\"\n",
        "print(prin)"
      ],
      "metadata": {
        "colab": {
          "base_uri": "https://localhost:8080/"
        },
        "id": "t0UhJ9caS5i-",
        "outputId": "c2b81747-5b5c-4f5f-fed3-73ecc0b925eb"
      },
      "execution_count": null,
      "outputs": [
        {
          "output_type": "stream",
          "name": "stdout",
          "text": [
            "Faza\n"
          ]
        }
      ]
    },
    {
      "cell_type": "code",
      "source": [
        "end = \"fafaza\"\n",
        "print(end)"
      ],
      "metadata": {
        "colab": {
          "base_uri": "https://localhost:8080/"
        },
        "id": "PuwFlhHGTlNg",
        "outputId": "b8aec48a-6fb8-43f0-d5be-a66a4efbff6d"
      },
      "execution_count": null,
      "outputs": [
        {
          "output_type": "stream",
          "name": "stdout",
          "text": [
            "fafaza\n"
          ]
        }
      ]
    },
    {
      "cell_type": "code",
      "source": [
        "#Deskriptif\n",
        "_ = \"Faza\"\n",
        "print(_)"
      ],
      "metadata": {
        "colab": {
          "base_uri": "https://localhost:8080/"
        },
        "id": "rPfshwShT54O",
        "outputId": "38e6d9f9-aa5e-43b0-af18-e6c5f291e67d"
      },
      "execution_count": null,
      "outputs": [
        {
          "output_type": "stream",
          "name": "stdout",
          "text": [
            "Faza\n"
          ]
        }
      ]
    },
    {
      "cell_type": "code",
      "source": [
        "#tidak boleh pakai kata kunci python\n",
        "#kalau error, harus disconnect dulu\n",
        "#print = \"faaza\"\n",
        "#print(print)"
      ],
      "metadata": {
        "id": "tK2kPOCGUHWO"
      },
      "execution_count": null,
      "outputs": []
    },
    {
      "cell_type": "markdown",
      "source": [
        "#assignment"
      ],
      "metadata": {
        "id": "S2nT4ev9YNBe"
      }
    },
    {
      "cell_type": "markdown",
      "source": [
        "##single assignment"
      ],
      "metadata": {
        "id": "OLLRvIswZMT-"
      }
    },
    {
      "cell_type": "code",
      "source": [
        "nama_siswa_2 = \"ssafira\"\n",
        "nama_siswa_3 = \"kaisya\"\n",
        "print(nama_siswa_2)\n",
        "print(nama_siswa_3)"
      ],
      "metadata": {
        "colab": {
          "base_uri": "https://localhost:8080/"
        },
        "id": "Rndgp-rGYePz",
        "outputId": "2adde9ce-4cf5-4282-d43b-cd92fd0708cf"
      },
      "execution_count": null,
      "outputs": [
        {
          "output_type": "stream",
          "name": "stdout",
          "text": [
            "ssafira\n",
            "kaisya\n"
          ]
        }
      ]
    },
    {
      "cell_type": "markdown",
      "source": [
        "##multipel assignment"
      ],
      "metadata": {
        "id": "8j60bZsXZae1"
      }
    },
    {
      "cell_type": "code",
      "source": [
        "nama_siswa_4,nama_siswa_5 = \"Faza\",\"Fifi\"\n",
        "print(nama_siswa_4)\n",
        "print(nama_siswa_5)"
      ],
      "metadata": {
        "colab": {
          "base_uri": "https://localhost:8080/"
        },
        "id": "DceAyEOxZ9MW",
        "outputId": "0cfc7ef6-fe4f-45ab-d84c-35c48a40f3e2"
      },
      "execution_count": null,
      "outputs": [
        {
          "output_type": "stream",
          "name": "stdout",
          "text": [
            "Faza\n",
            "Fifi\n"
          ]
        }
      ]
    },
    {
      "cell_type": "markdown",
      "source": [
        "##asign ke banyak variabel sekaligus"
      ],
      "metadata": {
        "id": "Fyy3WxnWbAzY"
      }
    },
    {
      "cell_type": "code",
      "source": [
        "nilai_faza = nilai_fazila = 100\n",
        "print(nilai_faza)"
      ],
      "metadata": {
        "colab": {
          "base_uri": "https://localhost:8080/"
        },
        "id": "bSXPVj4kbH1H",
        "outputId": "74ee1d95-d1cb-4000-e927-334bd3bac1a6"
      },
      "execution_count": null,
      "outputs": [
        {
          "output_type": "stream",
          "name": "stdout",
          "text": [
            "100\n"
          ]
        }
      ]
    },
    {
      "cell_type": "markdown",
      "source": [
        "##perubahn nilai variabel"
      ],
      "metadata": {
        "id": "KSGwQe0Gbbrx"
      }
    },
    {
      "cell_type": "code",
      "source": [
        "nilai_faza = 98\n",
        "print(nilai_faza)"
      ],
      "metadata": {
        "colab": {
          "base_uri": "https://localhost:8080/"
        },
        "id": "yLA-Vncbbitf",
        "outputId": "d208ebc6-b7f7-420b-d987-9b4827772f58"
      },
      "execution_count": null,
      "outputs": [
        {
          "output_type": "stream",
          "name": "stdout",
          "text": [
            "98\n"
          ]
        }
      ]
    },
    {
      "cell_type": "markdown",
      "source": [
        "##Latihan Soal: Harga Barang di Swalayan"
      ],
      "metadata": {
        "id": "eoyM7qSVCXaM"
      }
    },
    {
      "cell_type": "markdown",
      "source": [
        "#single assignment"
      ],
      "metadata": {
        "id": "YREP7EBTDAks"
      }
    },
    {
      "cell_type": "code",
      "source": [
        "\n",
        "susu = 15000\n",
        "roti = 12000\n",
        "telur = 24000\n",
        "\n",
        "print(f\"Harga susu: Rp{susu}\")\n",
        "print(f\"Harga roti: Rp{roti}\")\n",
        "print(f\"Harga telur: Rp{telur}\")"
      ],
      "metadata": {
        "colab": {
          "base_uri": "https://localhost:8080/"
        },
        "id": "PpKyEo1nCkda",
        "outputId": "06c614b5-cb7a-4698-c936-5c8461a5f5eb"
      },
      "execution_count": null,
      "outputs": [
        {
          "output_type": "stream",
          "name": "stdout",
          "text": [
            "Harga susu: Rp15000\n",
            "Harga roti: Rp12000\n",
            "Harga telur: Rp24000\n"
          ]
        }
      ]
    },
    {
      "cell_type": "markdown",
      "source": [
        "#Multiple assignment"
      ],
      "metadata": {
        "id": "5E7RZ950DFGn"
      }
    },
    {
      "cell_type": "code",
      "source": [
        "\n",
        "gula, minyak = 14000, 20000\n",
        "\n",
        "\n",
        "print(f\"Harga gula: Rp{gula}\")\n",
        "print(f\"Harga minyak: Rp{minyak}\")"
      ],
      "metadata": {
        "colab": {
          "base_uri": "https://localhost:8080/"
        },
        "id": "K8sNcmT1C8ax",
        "outputId": "cd2b72f0-6a7b-4d9b-b23e-abb332c34c1c"
      },
      "execution_count": null,
      "outputs": [
        {
          "output_type": "stream",
          "name": "stdout",
          "text": [
            "Harga gula: Rp14000\n",
            "Harga minyak: Rp20000\n"
          ]
        }
      ]
    },
    {
      "cell_type": "markdown",
      "source": [
        "#penilaian nilai sama"
      ],
      "metadata": {
        "id": "Htxftx1rDWOw"
      }
    },
    {
      "cell_type": "code",
      "source": [
        "\n",
        "mie_ayam = mie_soto = mie_kari = 3500\n",
        "\n",
        "\n",
        "print(f\"Harga mie ayam: Rp{mie_ayam}\")\n",
        "print(f\"Harga mie soto: Rp{mie_soto}\")\n",
        "print(f\"Harga mie kari: Rp{mie_kari}\")"
      ],
      "metadata": {
        "colab": {
          "base_uri": "https://localhost:8080/"
        },
        "id": "IeruEgjkDg48",
        "outputId": "755a3135-f998-438a-a240-39819fd8e903"
      },
      "execution_count": null,
      "outputs": [
        {
          "output_type": "stream",
          "name": "stdout",
          "text": [
            "Harga mie ayam: Rp3500\n",
            "Harga mie soto: Rp3500\n",
            "Harga mie kari: Rp3500\n"
          ]
        }
      ]
    },
    {
      "cell_type": "markdown",
      "source": [
        "Swap/tukar nilai"
      ],
      "metadata": {
        "id": "XEsyKCCzEELd"
      }
    },
    {
      "cell_type": "code",
      "source": [
        "\n",
        "susu, roti = roti, susu\n",
        "\n",
        "\n",
        "print(f\"Harga susu setelah ditukar: Rp{susu}\")\n",
        "print(f\"Harga roti setelah ditukar: Rp{roti}\")"
      ],
      "metadata": {
        "colab": {
          "base_uri": "https://localhost:8080/"
        },
        "id": "APvVKim7Eetr",
        "outputId": "87621e7f-c139-4a7a-ac2f-f14aa1b43d47"
      },
      "execution_count": null,
      "outputs": [
        {
          "output_type": "stream",
          "name": "stdout",
          "text": [
            "Harga susu setelah ditukar: Rp12000\n",
            "Harga roti setelah ditukar: Rp15000\n"
          ]
        }
      ]
    },
    {
      "cell_type": "markdown",
      "source": [
        "Perubahan nilai variabel"
      ],
      "metadata": {
        "id": "XWPgCjjlEuj4"
      }
    },
    {
      "cell_type": "code",
      "source": [
        "# harga telur turun\n",
        "telur = telur - 2000\n",
        "print(f\"Harga telur setelah diskon: Rp{telur}\")\n",
        "\n",
        "# harga minyak naik\n",
        "minyak = minyak + 3000\n",
        "print(f\"Harga minyak setelah harga naik: Rp{minyak}\")"
      ],
      "metadata": {
        "colab": {
          "base_uri": "https://localhost:8080/"
        },
        "id": "p4pYXBDTExbB",
        "outputId": "da8029ad-bb48-443a-ee87-c2769cfd213b"
      },
      "execution_count": null,
      "outputs": [
        {
          "output_type": "stream",
          "name": "stdout",
          "text": [
            "Harga telur setelah diskon: Rp22000\n",
            "Harga minyak setelah harga naik: Rp23000\n"
          ]
        }
      ]
    },
    {
      "cell_type": "markdown",
      "source": [
        "#Aritmatika"
      ],
      "metadata": {
        "id": "3j666tqmUgP8"
      }
    },
    {
      "cell_type": "code",
      "source": [
        "print(\"5000*3\")"
      ],
      "metadata": {
        "colab": {
          "base_uri": "https://localhost:8080/"
        },
        "id": "o4b5Zik7Uix2",
        "outputId": "f31f17dc-9b44-45fd-ef92-8f3a29ef4a44"
      },
      "execution_count": null,
      "outputs": [
        {
          "output_type": "stream",
          "name": "stdout",
          "text": [
            "5000*3\n"
          ]
        }
      ]
    },
    {
      "cell_type": "code",
      "source": [
        "#operand tanpa disimpan dalam variabel\n",
        "print(5000*3)"
      ],
      "metadata": {
        "colab": {
          "base_uri": "https://localhost:8080/"
        },
        "id": "ZtQXfCICUqJv",
        "outputId": "9e2e27ce-8065-4186-8584-10499d3d3199"
      },
      "execution_count": null,
      "outputs": [
        {
          "output_type": "stream",
          "name": "stdout",
          "text": [
            "15000\n"
          ]
        }
      ]
    },
    {
      "cell_type": "code",
      "source": [
        "#simpan operand dalam variabel\n",
        "harga_kojek = 6000\n",
        "Banyak_porsi = 3\n",
        "print(harga_kojek*Banyak_porsi)"
      ],
      "metadata": {
        "colab": {
          "base_uri": "https://localhost:8080/"
        },
        "id": "NpjydgBjU4z6",
        "outputId": "3fc4a000-8987-4ee5-be1c-556de88d8d14"
      },
      "execution_count": null,
      "outputs": [
        {
          "output_type": "stream",
          "name": "stdout",
          "text": [
            "18000\n"
          ]
        }
      ]
    },
    {
      "cell_type": "code",
      "source": [
        "#simpan hasil operasi dalam variabel\n",
        "Harga_total_kojek = 3000*3\n",
        "print(Harga_total_kojek)"
      ],
      "metadata": {
        "colab": {
          "base_uri": "https://localhost:8080/"
        },
        "id": "DYj9lW9AVKtR",
        "outputId": "e15353db-d0f1-42ee-a4f1-d578fc215c89"
      },
      "execution_count": null,
      "outputs": [
        {
          "output_type": "stream",
          "name": "stdout",
          "text": [
            "9000\n"
          ]
        }
      ]
    },
    {
      "cell_type": "code",
      "source": [
        "#simpan  nilai operand dan hasil operasi dalam variabel\n",
        "Harga_cilok = 10000\n",
        "Jumlah_porsi_cilok = 5\n",
        "Harga_total_cilok = Harga_cilok*Jumlah_porsi_cilok\n",
        "print (Harga_total_cilok)"
      ],
      "metadata": {
        "colab": {
          "base_uri": "https://localhost:8080/"
        },
        "id": "NyDDQtXnVXD1",
        "outputId": "06ac60c5-2861-4a81-90f4-a632942ce07c"
      },
      "execution_count": null,
      "outputs": [
        {
          "output_type": "stream",
          "name": "stdout",
          "text": [
            "50000\n"
          ]
        }
      ]
    },
    {
      "cell_type": "code",
      "source": [
        "Uang_yang_diterima = 100000\n",
        "Uang_kembalian = Uang_yang_diterima -Harga_total_cilok"
      ],
      "metadata": {
        "id": "3obtgEljV-vW"
      },
      "execution_count": null,
      "outputs": []
    },
    {
      "cell_type": "markdown",
      "source": [
        "#tugas"
      ],
      "metadata": {
        "id": "oxH5Kc4hWzQZ"
      }
    },
    {
      "cell_type": "code",
      "source": [
        "print(24 * 3)"
      ],
      "metadata": {
        "colab": {
          "base_uri": "https://localhost:8080/"
        },
        "id": "z3Ac3NdHW2OQ",
        "outputId": "ce603d98-2705-4481-8e3f-af9cf3c073ee"
      },
      "execution_count": null,
      "outputs": [
        {
          "output_type": "stream",
          "name": "stdout",
          "text": [
            "72\n"
          ]
        }
      ]
    },
    {
      "cell_type": "code",
      "source": [
        "total_jumlah_botol = 24 * 3\n",
        "print(total_jumlah_botol)"
      ],
      "metadata": {
        "colab": {
          "base_uri": "https://localhost:8080/"
        },
        "id": "yp78H-KmW5Bx",
        "outputId": "8d695a0b-d244-48ee-bf3b-0c7e1d6c58fc"
      },
      "execution_count": null,
      "outputs": [
        {
          "output_type": "stream",
          "name": "stdout",
          "text": [
            "72\n"
          ]
        }
      ]
    },
    {
      "cell_type": "code",
      "source": [
        "banyak_botol_per_kardus = 24\n",
        "jumlah_kardus = 3\n",
        "print(banyak_botol_per_kardus * jumlah_kardus)"
      ],
      "metadata": {
        "colab": {
          "base_uri": "https://localhost:8080/"
        },
        "id": "KzGYcxShXAcW",
        "outputId": "c3aca39c-6d26-4681-d4d5-38007960465f"
      },
      "execution_count": null,
      "outputs": [
        {
          "output_type": "stream",
          "name": "stdout",
          "text": [
            "72\n"
          ]
        }
      ]
    },
    {
      "cell_type": "code",
      "source": [
        "banyak_botol_per_kardus = 24\n",
        "jumlah_kardus = 3\n",
        "total_jumlah_botol = banyak_botol_per_kardus * jumlah_kardus\n",
        "print(total_jumlah_botol)"
      ],
      "metadata": {
        "colab": {
          "base_uri": "https://localhost:8080/"
        },
        "id": "JtMEqMiTXGCt",
        "outputId": "664d41de-7b96-4065-c617-02cd6b243a88"
      },
      "execution_count": null,
      "outputs": [
        {
          "output_type": "stream",
          "name": "stdout",
          "text": [
            "72\n"
          ]
        }
      ]
    },
    {
      "cell_type": "markdown",
      "source": [
        "## konversi tipe data"
      ],
      "metadata": {
        "id": "cnIj9yuvpEXx"
      }
    },
    {
      "cell_type": "code",
      "source": [
        "\n",
        "a = 3\n",
        "print(a)\n",
        "type(a)"
      ],
      "metadata": {
        "colab": {
          "base_uri": "https://localhost:8080/"
        },
        "id": "8FPECNozpN67",
        "outputId": "b077a730-1ca3-4fc0-b4dc-11277f2ee8e2"
      },
      "execution_count": null,
      "outputs": [
        {
          "output_type": "stream",
          "name": "stdout",
          "text": [
            "3\n"
          ]
        },
        {
          "output_type": "execute_result",
          "data": {
            "text/plain": [
              "int"
            ]
          },
          "metadata": {},
          "execution_count": 1
        }
      ]
    },
    {
      "cell_type": "code",
      "source": [
        "a = float(a)\n",
        "print(a)\n",
        "type(a)"
      ],
      "metadata": {
        "colab": {
          "base_uri": "https://localhost:8080/"
        },
        "id": "-POkyL1jpglS",
        "outputId": "0b2c351b-f131-4017-b2ad-978b2ad6ad2b"
      },
      "execution_count": null,
      "outputs": [
        {
          "output_type": "stream",
          "name": "stdout",
          "text": [
            "3.0\n"
          ]
        },
        {
          "output_type": "execute_result",
          "data": {
            "text/plain": [
              "float"
            ]
          },
          "metadata": {},
          "execution_count": 2
        }
      ]
    },
    {
      "cell_type": "code",
      "source": [
        "a = str(a)\n",
        "print(a)\n",
        "type(a)"
      ],
      "metadata": {
        "id": "10FLdEHvpjgu"
      },
      "execution_count": null,
      "outputs": []
    },
    {
      "cell_type": "code",
      "source": [
        "a = bool(a)\n",
        "print(a)\n",
        "type(a)"
      ],
      "metadata": {
        "id": "oQOp3egCpmA7"
      },
      "execution_count": null,
      "outputs": []
    },
    {
      "cell_type": "code",
      "source": [
        "b=\"cicak\"\n",
        "print(b)"
      ],
      "metadata": {
        "colab": {
          "base_uri": "https://localhost:8080/"
        },
        "id": "UoDDoyKWpoo5",
        "outputId": "63fd98f5-46cf-4726-84e2-00ded16f86b6"
      },
      "execution_count": null,
      "outputs": [
        {
          "output_type": "stream",
          "name": "stdout",
          "text": [
            "cicak\n"
          ]
        }
      ]
    },
    {
      "cell_type": "code",
      "source": [
        "c = \"\"\n",
        "\n",
        "print(c)\n",
        "c = bool(c)\n",
        "print(c)"
      ],
      "metadata": {
        "colab": {
          "base_uri": "https://localhost:8080/"
        },
        "id": "vKbvPkkfpsAH",
        "outputId": "7fdc6bec-7bd6-4d00-da63-d82135dbea82"
      },
      "execution_count": null,
      "outputs": [
        {
          "output_type": "stream",
          "name": "stdout",
          "text": [
            "\n",
            "False\n"
          ]
        }
      ]
    },
    {
      "cell_type": "code",
      "source": [
        "d = False\n",
        "print(d)\n",
        "type(d)"
      ],
      "metadata": {
        "colab": {
          "base_uri": "https://localhost:8080/"
        },
        "id": "agoJkVNJp4Mf",
        "outputId": "7cfacb3f-1a1d-4071-e25a-3e8d518337b2"
      },
      "execution_count": null,
      "outputs": [
        {
          "output_type": "stream",
          "name": "stdout",
          "text": [
            "False\n"
          ]
        },
        {
          "output_type": "execute_result",
          "data": {
            "text/plain": [
              "bool"
            ]
          },
          "metadata": {},
          "execution_count": 5
        }
      ]
    },
    {
      "cell_type": "code",
      "source": [
        "e =\"False\"\n",
        "print(e)\n",
        "type(e)"
      ],
      "metadata": {
        "colab": {
          "base_uri": "https://localhost:8080/"
        },
        "id": "4oErgsJhp5XU",
        "outputId": "2dde522a-38c3-44d9-f875-a3481569702b"
      },
      "execution_count": null,
      "outputs": [
        {
          "output_type": "stream",
          "name": "stdout",
          "text": [
            "False\n"
          ]
        },
        {
          "output_type": "execute_result",
          "data": {
            "text/plain": [
              "str"
            ]
          },
          "metadata": {},
          "execution_count": 6
        }
      ]
    },
    {
      "cell_type": "markdown",
      "source": [
        "##Tugas kelompok program menghitung volume kerucut"
      ],
      "metadata": {
        "id": "n-Kdi9MtKR9m"
      }
    },
    {
      "cell_type": "code",
      "source": [
        "jari_jari = float(input(\"masukkan jari jari kerucut:\"))\n",
        "tinggi = float(input(\" masukkan tinggi kerucut:\"))\n",
        "pi = 3.14\n",
        "volume =(1/3)* pi * (jari_jari**2)* tinggi\n",
        "print(f\" volume kerucut adalah {volume} cm^3\")"
      ],
      "metadata": {
        "colab": {
          "base_uri": "https://localhost:8080/"
        },
        "id": "ONngcMHoKa7X",
        "outputId": "9a69c623-27af-4321-83e0-7e1e43cf0e96"
      },
      "execution_count": null,
      "outputs": [
        {
          "output_type": "stream",
          "name": "stdout",
          "text": [
            "masukkan jari jari kerucut:7\n",
            " masukkan tinggi kerucut:10\n",
            " volume kerucut adalah 512.8666666666666 cm^3\n"
          ]
        }
      ]
    }
  ]
}